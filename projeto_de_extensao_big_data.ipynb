{
  "nbformat": 4,
  "nbformat_minor": 0,
  "metadata": {
    "colab": {
      "provenance": [],
      "authorship_tag": "ABX9TyPdHL8ds82OTJGygQDiPWXl",
      "include_colab_link": true
    },
    "kernelspec": {
      "name": "python3",
      "display_name": "Python 3"
    },
    "language_info": {
      "name": "python"
    }
  },
  "cells": [
    {
      "cell_type": "markdown",
      "metadata": {
        "id": "view-in-github",
        "colab_type": "text"
      },
      "source": [
        "<a href=\"https://colab.research.google.com/github/RyanCord/Big-Data-Projeto/blob/main/projeto_de_extensao_big_data.ipynb\" target=\"_parent\"><img src=\"https://colab.research.google.com/assets/colab-badge.svg\" alt=\"Open In Colab\"/></a>"
      ]
    },
    {
      "cell_type": "code",
      "execution_count": null,
      "metadata": {
        "colab": {
          "base_uri": "https://localhost:8080/"
        },
        "id": "v4KVhLOwaTEh",
        "outputId": "d95e0a72-1821-42a6-f823-5ae14770d001"
      },
      "outputs": [
        {
          "output_type": "stream",
          "name": "stdout",
          "text": [
            "Requirement already satisfied: openpyxl in /usr/local/lib/python3.10/dist-packages (3.1.5)\n",
            "Requirement already satisfied: et-xmlfile in /usr/local/lib/python3.10/dist-packages (from openpyxl) (1.1.0)\n"
          ]
        }
      ],
      "source": [
        "!pip install openpyxl\n"
      ]
    },
    {
      "cell_type": "code",
      "source": [
        "import pandas as pd\n",
        "\n",
        "file_path = \"/content/Dados_Cartório.xlsx\"\n",
        "\n",
        "\n",
        "pdf = pd.read_excel(file_path)"
      ],
      "metadata": {
        "id": "13iFM6loay23"
      },
      "execution_count": null,
      "outputs": []
    },
    {
      "cell_type": "code",
      "source": [
        "from google.colab import drive\n",
        "drive.mount('/content/drive')"
      ],
      "metadata": {
        "id": "jB0zHEkB-yku"
      },
      "execution_count": null,
      "outputs": []
    },
    {
      "cell_type": "code",
      "source": [
        "!pip install pyspark\n"
      ],
      "metadata": {
        "id": "5XEsbwQjbBbt",
        "collapsed": true
      },
      "execution_count": null,
      "outputs": []
    },
    {
      "cell_type": "code",
      "source": [
        "from pyspark.sql import SparkSession\n",
        "\n",
        "\n",
        "spark = SparkSession.builder.master(\"local[*]\").getOrCreate()\n",
        "\n",
        "\n",
        "df = spark.createDataFrame(pdf)\n",
        "df.show(5)"
      ],
      "metadata": {
        "id": "MGbOr_2HbfTv"
      },
      "execution_count": null,
      "outputs": []
    },
    {
      "cell_type": "code",
      "source": [
        "df.printSchema()\n"
      ],
      "metadata": {
        "id": "9Te9NFu-byMh"
      },
      "execution_count": null,
      "outputs": []
    },
    {
      "cell_type": "code",
      "source": [
        "df.describe().show()\n",
        "\n"
      ],
      "metadata": {
        "id": "91uGwjP2b3XP"
      },
      "execution_count": null,
      "outputs": []
    },
    {
      "cell_type": "code",
      "source": [
        "pdf = df.toPandas()\n"
      ],
      "metadata": {
        "id": "Ezrth5kIcAvK"
      },
      "execution_count": null,
      "outputs": []
    },
    {
      "cell_type": "code",
      "source": [
        "import matplotlib.pyplot as plt\n",
        "import seaborn as sns\n",
        "\n",
        "plt.figure(figsize=(10, 6))\n",
        "sns.scatterplot(data=pdf, x=\"ESTADO CIVIL\", y=\"PROFISSÃO\")\n",
        "plt.title(\"Gráfico de Dispersão\")\n",
        "plt.show()"
      ],
      "metadata": {
        "id": "vCJSru08cIdy"
      },
      "execution_count": null,
      "outputs": []
    },
    {
      "cell_type": "code",
      "source": [
        "\n",
        "mean_age_by_profession = pdf.groupby('PROFISSÃO')['DATA NASCIMENTO'].mean().reset_index()\n",
        "mean_age_by_profession.columns = ['PROFISSÃO', 'Mean_Age']\n",
        "\n",
        "\n",
        "print(mean_age_by_profession)\n"
      ],
      "metadata": {
        "id": "xuAfdgj7cyuP"
      },
      "execution_count": null,
      "outputs": []
    },
    {
      "cell_type": "code",
      "source": [
        "print(mean_age_by_profession)"
      ],
      "metadata": {
        "id": "eZIT0UKxeBBT"
      },
      "execution_count": null,
      "outputs": []
    },
    {
      "cell_type": "code",
      "source": [
        "pdf['Age'] = pd.to_datetime(pdf['DATA NASCIMENTO']).apply(lambda x: (datetime.datetime.now() - x).days // 365)\n",
        "\n",
        "mean_age_by_profession = pdf.groupby('PROFISSÃO')['Age'].mean().reset_index()\n",
        "mean_age_by_profession.columns = ['Profissão', 'Idade_Média']\n",
        "\n",
        "print(mean_age_by_profession)"
      ],
      "metadata": {
        "id": "Qsdh8lrNej2Q"
      },
      "execution_count": null,
      "outputs": []
    },
    {
      "cell_type": "code",
      "source": [
        "print(mean_age_by_profession)\n"
      ],
      "metadata": {
        "id": "B5RVbMArfBef"
      },
      "execution_count": null,
      "outputs": []
    },
    {
      "cell_type": "code",
      "source": [
        "df.show()\n"
      ],
      "metadata": {
        "id": "yXz2g-nEgXZe"
      },
      "execution_count": null,
      "outputs": []
    },
    {
      "cell_type": "code",
      "source": [
        "from pyspark.sql.functions import when, count\n",
        "\n",
        "\n",
        "homens_coletados = df.filter(df['SEXO'] == 'Masculino').groupBy('STATUS BIOMETRIA').agg(count('*').alias('Total'))\n",
        "mulheres_coletadas = df.filter(df['SEXO'] == 'Feminino').groupBy('STATUS BIOMETRIA').agg(count('*').alias('Total'))\n",
        "\n",
        "\n",
        "homens_coletados = homens_coletados.withColumn('STATUS BIOMETRIA', when(homens_coletados['STATUS BIOMETRIA'].isNull(), 'Não Coletado').otherwise(homens_coletados['STATUS BIOMETRIA']))\n",
        "mulheres_coletadas = mulheres_coletadas.withColumn('STATUS BIOMETRIA', when(mulheres_coletadas['STATUS BIOMETRIA'].isNull(), 'Não Coletado').otherwise(mulheres_coletadas['STATUS BIOMETRIA']))\n",
        "\n",
        "\n",
        "print(\"Homens que coletaram a biometria:\")\n",
        "homens_coletados.show()\n",
        "print(\"Mulheres que coletaram a biometria:\")\n",
        "mulheres_coletadas.show()"
      ],
      "metadata": {
        "id": "HwiAYJ9hgtcJ"
      },
      "execution_count": null,
      "outputs": []
    },
    {
      "cell_type": "code",
      "source": [
        "import matplotlib.pyplot as plt\n",
        "\n",
        "\n",
        "labels = ['Coletado', 'Não Coletado']\n",
        "sizes_homens = homens_coletados.select('Total').rdd.flatMap(lambda x: x).collect()\n",
        "sizes_mulheres = mulheres_coletadas.select('Total').rdd.flatMap(lambda x: x).collect()\n",
        "\n",
        "\n",
        "plt.figure(figsize=(12, 6))\n",
        "plt.subplot(1, 2, 1)\n",
        "plt.pie(sizes_homens, labels=labels, autopct='%1.1f%%', startangle=140, colors=['lightblue', 'lightgray'])\n",
        "plt.title(\"Homens\")\n",
        "\n",
        "\n",
        "plt.subplot(1, 2, 2)\n",
        "plt.pie(sizes_mulheres, labels=labels, autopct='%1.1f%%', startangle=140, colors=['lightpink', 'lightgray'])\n",
        "plt.title(\"Mulheres\")\n",
        "\n",
        "plt.suptitle(\"Status da Biometria\", fontsize=16)\n",
        "\n",
        "\n",
        "plt.axis('equal')\n",
        "plt.show()"
      ],
      "metadata": {
        "id": "Rs3Pc2c4g0PV"
      },
      "execution_count": null,
      "outputs": []
    },
    {
      "cell_type": "code",
      "source": [
        "from pyspark.sql import functions as F\n",
        "\n",
        "from pyspark.sql.functions import year, current_date\n",
        "\n",
        "df_with_age = df.withColumn('IDADE', year(current_date()) - year('DATA NASCIMENTO'))\n",
        "\n",
        "def calcular_faixa_etaria(idade):\n",
        "    if idade < 30:\n",
        "        return '18-29'\n",
        "    elif 30 <= idade < 40:\n",
        "        return '30-39'\n",
        "    elif 40 <= idade < 50:\n",
        "        return '40-49'\n",
        "    elif 50 <= idade < 60:\n",
        "        return '50-59'\n",
        "    else:\n",
        "        return '60+'\n",
        "calc_faixa_etaria_udf = udf(calcular_faixa_etaria, StringType())\n",
        "\n",
        "df_with_age_range = df_with_age.withColumn('FAIXA_ETARIA', calc_faixa_etaria_udf(df_with_age['IDADE']))\n",
        "\n",
        "\n",
        "profissoes_por_grupo = df_with_age_range.groupBy('FAIXA_ETARIA', 'SEXO', 'PROFISSÃO').count()\n",
        "\n",
        "profissoes_mais_comuns = profissoes_por_grupo.orderBy('FAIXA_ETARIA', 'SEXO', F.desc('count')).groupBy('FAIXA_ETARIA', 'SEXO').agg(F.first('PROFISSÃO')).orderBy('FAIXA_ETARIA', 'SEXO')\n",
        "\n",
        "profissoes_mais_comuns.show()"
      ],
      "metadata": {
        "id": "TGZLJUJxiQz7"
      },
      "execution_count": null,
      "outputs": []
    },
    {
      "cell_type": "code",
      "source": [
        "import matplotlib.pyplot as plt\n",
        "\n",
        "\n",
        "profissoes_mais_comuns_pd = profissoes_mais_comuns.toPandas()\n",
        "\n",
        "for idx, row in profissoes_mais_comuns_pd.iterrows():\n",
        "    faixa_etaria = row['FAIXA_ETARIA']\n",
        "    sexo = row['SEXO']\n",
        "    profissao = row['first(PROFISSÃO)']\n",
        "\n",
        "\n",
        "    filtro = (df_with_age_range['FAIXA_ETARIA'] == faixa_etaria) & (df_with_age_range['SEXO'] == sexo) & (df_with_age_range['PROFISSÃO'] == profissao)\n",
        "    total = df_with_age_range.filter(filtro).count()\n",
        "\n",
        "\n",
        "    plt.figure(figsize=(8, 6))\n",
        "    plt.pie([total, 100-total], labels=[profissao, 'Outras Profissões'], autopct='%1.1f%%', startangle=140)\n",
        "    plt.title(f'Profissões mais comuns para {sexo} na faixa etária {faixa_etaria}')\n",
        "    plt.show()"
      ],
      "metadata": {
        "id": "vG47grr5kdtJ"
      },
      "execution_count": null,
      "outputs": []
    },
    {
      "cell_type": "code",
      "source": [
        "import matplotlib.pyplot as plt\n",
        "\n",
        "genero_por_profissao = df.groupBy('PROFISSÃO', 'SEXO').count()\n",
        "\n",
        "genero_por_profissao_pd = genero_por_profissao.toPandas()\n",
        "\n",
        "genero_por_profissao_pivot = genero_por_profissao_pd.pivot(index='PROFISSÃO', columns='SEXO', values='count')\n",
        "\n",
        "plt.figure(figsize=(10, 8))\n",
        "genero_por_profissao_pivot.plot(kind='pie', subplots=True, layout=(2, 1), autopct='%1.1f%%', startangle=140, legend=False, figsize=(10, 8))\n",
        "plt.title('Distribuição de Gênero por Profissão')\n",
        "plt.show()"
      ],
      "metadata": {
        "id": "1Ah7iDAusl-L"
      },
      "execution_count": null,
      "outputs": []
    },
    {
      "cell_type": "code",
      "source": [
        "import matplotlib.pyplot as plt\n",
        "\n",
        "distribuicao_genero_estado_civil = df.groupBy('ESTADO CIVIL', 'SEXO').count()\n",
        "\n",
        "distribuicao_genero_estado_civil_pd = distribuicao_genero_estado_civil.toPandas()\n",
        "\n",
        "distribuicao_genero_estado_civil_pivot = distribuicao_genero_estado_civil_pd.pivot(index='ESTADO CIVIL', columns='SEXO', values='count')\n",
        "\n",
        "distribuicao_genero_estado_civil_pivot.plot(kind='bar', stacked=True, figsize=(10, 6))\n",
        "plt.title('Distribuição de Gênero por Estado Civil')\n",
        "plt.xlabel('Estado Civil')\n",
        "plt.ylabel('Contagem')\n",
        "plt.xticks(rotation=45)\n",
        "plt.legend(title='Gênero')\n",
        "plt.show()"
      ],
      "metadata": {
        "id": "SVjEtiyXs3T4"
      },
      "execution_count": null,
      "outputs": []
    },
    {
      "cell_type": "code",
      "source": [],
      "metadata": {
        "id": "pVty-rvq09RU"
      },
      "execution_count": null,
      "outputs": []
    },
    {
      "cell_type": "code",
      "source": [
        "import pandas as pd\n",
        "import matplotlib.pyplot as plt\n",
        "\n",
        "\n",
        "print(df.columns)\n",
        "\n",
        "# Filtrar os dados para procedimentos realizados no RJ\n",
        "procedimentos_rj_df = df[df['ESTADO'] == 'RJ']\n",
        "\n",
        "# Contar o total de registros no RJ\n",
        "total_procedimentos_rj = procedimentos_rj_df.shape[0]\n",
        "\n",
        "# Contar o número de pessoas que não são do RJ\n",
        "procedimentos_nao_rj = procedimentos_rj_df[procedimentos_rj_df['ESTADO'] != 'RJ'].shape[0]\n",
        "\n",
        "# Calcular a porcentagem\n",
        "percentual_nao_rj = (procedimentos_nao_rj / total_procedimentos_rj) * 100\n",
        "\n",
        "# Criar os dados para o gráfico de pizza\n",
        "labels = ['De fora do RJ', 'Do RJ']\n",
        "sizes = [percentual_nao_rj, 100 - percentual_nao_rj]\n",
        "colors = ['#ff9999','#66b3ff']\n",
        "explode = (0.1, 0)\n",
        "\n",
        "\n",
        "plt.figure(figsize=(8, 8))\n",
        "plt.pie(sizes, explode=explode, labels=labels, colors=colors, autopct='%1.1f%%',\n",
        "        shadow=True, startangle=140)\n",
        "plt.title('Porcentagem de pessoas que não são do RJ e vêm fazer procedimentos no RJ')\n",
        "plt.axis('equal')\n",
        "plt.show()"
      ],
      "metadata": {
        "id": "0jhX5FcBw19P"
      },
      "execution_count": null,
      "outputs": []
    },
    {
      "cell_type": "code",
      "source": [],
      "metadata": {
        "id": "Bt_e9RcYDkYZ"
      },
      "execution_count": null,
      "outputs": []
    },
    {
      "cell_type": "code",
      "source": [
        "plt.show()\n"
      ],
      "metadata": {
        "id": "tkvQXFwxxU5x"
      },
      "execution_count": null,
      "outputs": []
    },
    {
      "cell_type": "code",
      "source": [
        "import pandas as pd\n",
        "\n",
        "\n",
        "df = pd.read_excel(\"/content/Dados_Cartório.xlsx\")\n",
        "\n",
        "\n",
        "df.head()"
      ],
      "metadata": {
        "id": "Z2Df_B1y0_Y3"
      },
      "execution_count": null,
      "outputs": []
    },
    {
      "cell_type": "code",
      "source": [
        "total_pessoas = len(df)\n",
        "nao_rj = len(df[df['ESTADO'] != 'RJ'])\n",
        "\n",
        "# Calcular a porcentagem\n",
        "porcentagem_nao_rj = (nao_rj / total_pessoas) * 100\n",
        "porcentagem_rj = 100 - porcentagem_nao_rj\n",
        "\n",
        "print(\"Porcentagem de pessoas do RJ:\", porcentagem_rj)\n",
        "print(\"Porcentagem de pessoas de fora do RJ:\", porcentagem_nao_rj)"
      ],
      "metadata": {
        "id": "ynaYIi_71OV1"
      },
      "execution_count": null,
      "outputs": []
    },
    {
      "cell_type": "code",
      "source": [
        "import matplotlib.pyplot as plt\n",
        "\n",
        "labels = ['RJ', 'Outros Estados']\n",
        "sizes = [porcentagem_rj, porcentagem_nao_rj]\n",
        "colors = ['lightblue', 'lightcoral']\n",
        "\n",
        "plt.figure(figsize=(8, 6))\n",
        "plt.pie(sizes, labels=labels, colors=colors, autopct='%1.1f%%', startangle=140)\n",
        "plt.axis('equal')\n",
        "plt.title('Porcentagem de Pessoas do RJ vs. de Fora do RJ')\n",
        "plt.show()"
      ],
      "metadata": {
        "id": "e9nZgH6N1RNc"
      },
      "execution_count": null,
      "outputs": []
    },
    {
      "cell_type": "code",
      "source": [
        "sexo_counts = df['SEXO'].value_counts()\n",
        "\n",
        "plt.figure(figsize=(6, 4))\n",
        "sexo_counts.plot(kind='bar', color='lightcoral')\n",
        "plt.title('Distribuição por Sexo')\n",
        "plt.xlabel('Sexo')\n",
        "plt.ylabel('Número de Pessoas')\n",
        "plt.xticks(rotation=0)\n",
        "plt.tight_layout()\n",
        "plt.show()"
      ],
      "metadata": {
        "id": "FOYk1vW418PL"
      },
      "execution_count": null,
      "outputs": []
    },
    {
      "cell_type": "code",
      "source": [
        "import matplotlib.pyplot as plt\n",
        "\n",
        "profissoes_comuns = df['PROFISSÃO'].value_counts().head(5).index.tolist()\n",
        "\n",
        "df_comuns = df[df['PROFISSÃO'].isin(profissoes_comuns)]\n",
        "\n",
        "estado_civil_counts = df_comuns.groupby(['PROFISSÃO', 'ESTADO CIVIL']).size().unstack(fill_value=0)\n",
        "\n",
        "estado_civil_counts.plot(kind='bar', stacked=True, figsize=(10, 6))\n",
        "plt.title('Estado Civil por Profissão (Top 5 Profissões Mais Comuns)')\n",
        "plt.xlabel('Profissão')\n",
        "plt.ylabel('Número de Pessoas')\n",
        "plt.xticks(rotation=45, ha='right')\n",
        "plt.legend(title='Estado Civil')\n",
        "plt.tight_layout()\n",
        "plt.show()"
      ],
      "metadata": {
        "id": "o7nW0yJt2WUs"
      },
      "execution_count": null,
      "outputs": []
    }
  ]
}